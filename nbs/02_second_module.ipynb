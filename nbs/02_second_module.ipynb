{
 "cells": [
  {
   "cell_type": "markdown",
   "id": "dadb58df",
   "metadata": {},
   "source": [
    "# Second Module\n",
    "> This is the secound module"
   ]
  },
  {
   "cell_type": "code",
   "execution_count": null,
   "id": "fe41c567",
   "metadata": {},
   "outputs": [],
   "source": [
    "#| default_exp secound_module"
   ]
  },
  {
   "cell_type": "code",
   "execution_count": null,
   "id": "96bb1300",
   "metadata": {},
   "outputs": [],
   "source": [
    "#| export\n",
    "def sub(a:int, b:int):\n",
    "    '''\n",
    "    Function to subtracts two numbers\n",
    "    '''\n",
    "    print(f'a - b = {a-b}')"
   ]
  }
 ],
 "metadata": {
  "kernelspec": {
   "display_name": "python3",
   "language": "python",
   "name": "python3"
  }
 },
 "nbformat": 4,
 "nbformat_minor": 5
}
